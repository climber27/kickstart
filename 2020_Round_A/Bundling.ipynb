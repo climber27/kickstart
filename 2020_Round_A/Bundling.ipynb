{
 "cells": [
  {
   "cell_type": "code",
   "execution_count": 72,
   "metadata": {
    "collapsed": true
   },
   "outputs": [],
   "source": [
    "class TrieNode:\n",
    "    def __init__(self, letter):\n",
    "        self.letter = letter\n",
    "        self.children = {}\n",
    "        self.count = 0"
   ]
  },
  {
   "cell_type": "code",
   "execution_count": 73,
   "outputs": [],
   "source": [
    "def insert(root: TrieNode, word: str):\n",
    "    cur = root\n",
    "    for ch in word:\n",
    "        cur.count += 1\n",
    "        if ch not in cur.children:\n",
    "            cur.children[ch] = TrieNode(ch)\n",
    "        cur = cur.children[ch]\n",
    "    cur.count += 1"
   ],
   "metadata": {
    "collapsed": false,
    "pycharm": {
     "name": "#%%\n"
    }
   }
  },
  {
   "cell_type": "code",
   "execution_count": 103,
   "outputs": [],
   "source": [
    "def group(node: TrieNode, K: int):\n",
    "    if node is None:\n",
    "        return 0\n",
    "    res = node.count // K\n",
    "    if res == 0:\n",
    "        return 0\n",
    "    for child in node.children.values():\n",
    "        res += group(child, K)\n",
    "    return res"
   ],
   "metadata": {
    "collapsed": false,
    "pycharm": {
     "name": "#%%\n"
    }
   }
  },
  {
   "cell_type": "code",
   "execution_count": 104,
   "outputs": [],
   "source": [
    "words = [\n",
    "    'G',\n",
    "    'G',\n",
    "    'GO',\n",
    "    'GO',\n",
    "    'GOO',\n",
    "    'GOO',\n",
    "    'GOOO',\n",
    "    'GOOO'\n",
    "]"
   ],
   "metadata": {
    "collapsed": false,
    "pycharm": {
     "name": "#%%\n"
    }
   }
  },
  {
   "cell_type": "code",
   "execution_count": 112,
   "outputs": [],
   "source": [
    "words = [\n",
    "    'RAINBOW',\n",
    "    'FIREBALL',\n",
    "    'RANK',\n",
    "    'RANDOM',\n",
    "    'FIREWALL',\n",
    "    'FIREFIGHTER'\n",
    "]\n"
   ],
   "metadata": {
    "collapsed": false,
    "pycharm": {
     "name": "#%%\n"
    }
   }
  },
  {
   "cell_type": "code",
   "execution_count": 113,
   "outputs": [
    {
     "data": {
      "text/plain": "{'R': <__main__.TrieNode at 0x7ff65562cb10>,\n 'F': <__main__.TrieNode at 0x7ff65562cb50>}"
     },
     "execution_count": 113,
     "metadata": {},
     "output_type": "execute_result"
    }
   ],
   "source": [
    "head = TrieNode(\"\")\n",
    "for word in words:\n",
    "    insert(head, word)\n",
    "\n",
    "head.children"
   ],
   "metadata": {
    "collapsed": false,
    "pycharm": {
     "name": "#%%\n"
    }
   }
  },
  {
   "cell_type": "code",
   "execution_count": 114,
   "outputs": [
    {
     "data": {
      "text/plain": "44"
     },
     "execution_count": 114,
     "metadata": {},
     "output_type": "execute_result"
    }
   ],
   "source": [
    "K = 1\n",
    "ans = 0\n",
    "for child in head.children.values():\n",
    "    ans += group(child, K)\n",
    "ans"
   ],
   "metadata": {
    "collapsed": false,
    "pycharm": {
     "name": "#%%\n"
    }
   }
  },
  {
   "cell_type": "code",
   "execution_count": 115,
   "outputs": [
    {
     "data": {
      "text/plain": "44"
     },
     "execution_count": 115,
     "metadata": {},
     "output_type": "execute_result"
    }
   ],
   "source": [
    "sum(list(map(len, words)))"
   ],
   "metadata": {
    "collapsed": false,
    "pycharm": {
     "name": "#%%\n"
    }
   }
  },
  {
   "cell_type": "code",
   "execution_count": 108,
   "outputs": [
    {
     "ename": "ValueError",
     "evalue": "invalid literal for int() with base 10: ''",
     "output_type": "error",
     "traceback": [
      "\u001B[0;31m---------------------------------------------------------------------------\u001B[0m",
      "\u001B[0;31mValueError\u001B[0m                                Traceback (most recent call last)",
      "\u001B[0;32m<ipython-input-108-d1e4fd5be6b2>\u001B[0m in \u001B[0;36m<module>\u001B[0;34m\u001B[0m\n\u001B[1;32m      3\u001B[0m \u001B[0;32mfor\u001B[0m \u001B[0mt\u001B[0m \u001B[0;32min\u001B[0m \u001B[0mrange\u001B[0m\u001B[0;34m(\u001B[0m\u001B[0;36m1\u001B[0m\u001B[0;34m,\u001B[0m \u001B[0mT\u001B[0m\u001B[0;34m+\u001B[0m\u001B[0;36m1\u001B[0m\u001B[0;34m)\u001B[0m\u001B[0;34m:\u001B[0m\u001B[0;34m\u001B[0m\u001B[0;34m\u001B[0m\u001B[0m\n\u001B[1;32m      4\u001B[0m     \u001B[0mN\u001B[0m\u001B[0;34m,\u001B[0m \u001B[0mK\u001B[0m \u001B[0;34m=\u001B[0m \u001B[0mmap\u001B[0m\u001B[0;34m(\u001B[0m\u001B[0mint\u001B[0m\u001B[0;34m,\u001B[0m \u001B[0minput\u001B[0m\u001B[0;34m(\u001B[0m\u001B[0;34m)\u001B[0m\u001B[0;34m.\u001B[0m\u001B[0msplit\u001B[0m\u001B[0;34m(\u001B[0m\u001B[0;34m\" \"\u001B[0m\u001B[0;34m)\u001B[0m\u001B[0;34m)\u001B[0m\u001B[0;34m\u001B[0m\u001B[0;34m\u001B[0m\u001B[0m\n\u001B[0;32m----> 5\u001B[0;31m     \u001B[0mwords\u001B[0m \u001B[0;34m=\u001B[0m \u001B[0mlist\u001B[0m\u001B[0;34m(\u001B[0m\u001B[0mmap\u001B[0m\u001B[0;34m(\u001B[0m\u001B[0mint\u001B[0m\u001B[0;34m,\u001B[0m \u001B[0minput\u001B[0m\u001B[0;34m(\u001B[0m\u001B[0;34m)\u001B[0m\u001B[0;34m.\u001B[0m\u001B[0msplit\u001B[0m\u001B[0;34m(\u001B[0m\u001B[0;34m\" \"\u001B[0m\u001B[0;34m)\u001B[0m\u001B[0;34m)\u001B[0m\u001B[0;34m)\u001B[0m\u001B[0;34m\u001B[0m\u001B[0;34m\u001B[0m\u001B[0m\n\u001B[0m\u001B[1;32m      6\u001B[0m \u001B[0;34m\u001B[0m\u001B[0m\n\u001B[1;32m      7\u001B[0m     \u001B[0;31m# solve\u001B[0m\u001B[0;34m\u001B[0m\u001B[0;34m\u001B[0m\u001B[0;34m\u001B[0m\u001B[0m\n",
      "\u001B[0;31mValueError\u001B[0m: invalid literal for int() with base 10: ''"
     ]
    }
   ],
   "source": [
    "# input\n",
    "T = int(input())\n",
    "for t in range(1, T+1):\n",
    "    N, K = map(int, input().split(\" \"))\n",
    "    words = []\n",
    "    for _ in range(N):\n",
    "        words += [input()]\n",
    "\n",
    "    # solve\n",
    "    head = TrieNode(\"\")\n",
    "    for word in words:\n",
    "        insert(head, word)\n",
    "    ans = 0\n",
    "    for child in head.children.values():\n",
    "        ans += group(child, K)\n",
    "\n",
    "    # output\n",
    "    print(f\"Case #{t}: {ans}\")"
   ],
   "metadata": {
    "collapsed": false,
    "pycharm": {
     "name": "#%%\n"
    }
   }
  },
  {
   "cell_type": "code",
   "execution_count": 101,
   "outputs": [
    {
     "name": "stdout",
     "output_type": "stream",
     "text": [
      "R 1\n",
      "A 1\n",
      "F 1\n",
      "I 1\n",
      "R 1\n",
      "E 1\n",
      "Case #1: 6\n"
     ]
    }
   ],
   "source": [
    "# input\n",
    "T = int('1')\n",
    "for t in range(1, T+1):\n",
    "    N, K = 6, 3\n",
    "    words = [\n",
    "        'RAINBOW',\n",
    "        'FIREBALL',\n",
    "        'RANK',\n",
    "        'RANDOM',\n",
    "        'FIREWALL',\n",
    "        'FIREFIGHTER'\n",
    "    ]\n",
    "\n",
    "    # solve\n",
    "    head = TrieNode(\"\")\n",
    "    for word in words:\n",
    "        insert(head, word)\n",
    "    ans = 0\n",
    "    for child in head.children.values():\n",
    "        ans += group(child, K)\n",
    "\n",
    "    # output\n",
    "    print(f\"Case #{t}: {ans}\")"
   ],
   "metadata": {
    "collapsed": false,
    "pycharm": {
     "name": "#%%\n"
    }
   }
  }
 ],
 "metadata": {
  "kernelspec": {
   "name": "pycharm-4f6d71ca",
   "language": "python",
   "display_name": "PyCharm (kickstart)"
  },
  "language_info": {
   "codemirror_mode": {
    "name": "ipython",
    "version": 2
   },
   "file_extension": ".py",
   "mimetype": "text/x-python",
   "name": "python",
   "nbconvert_exporter": "python",
   "pygments_lexer": "ipython2",
   "version": "2.7.6"
  }
 },
 "nbformat": 4,
 "nbformat_minor": 0
}