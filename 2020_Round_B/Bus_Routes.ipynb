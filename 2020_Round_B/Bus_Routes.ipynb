{
 "cells": [
  {
   "cell_type": "code",
   "execution_count": 18,
   "metadata": {
    "collapsed": true,
    "pycharm": {
     "name": "#%%\n"
    }
   },
   "outputs": [
    {
     "name": "stdout",
     "output_type": "stream",
     "text": [
      "3 3\n",
      "7 7\n",
      "2 2\n",
      "3 6\n",
      "2 4\n",
      "3 9\n",
      "2 6\n",
      "3 12\n",
      "2 8\n",
      "2 10\n",
      "2 12\n"
     ]
    },
    {
     "data": {
      "text/plain": "[set(), set(), {2}, {3}, {2}, set(), {2, 3}, {7}, {2}, {3}, {2}, set(), {2, 3}]"
     },
     "execution_count": 18,
     "metadata": {},
     "output_type": "execute_result"
    }
   ],
   "source": [
    "N = 3\n",
    "D = 12\n",
    "routes = [3, 7, 2]\n",
    "buses = [set() for _ in range(D+1)]\n",
    "for i in range(1, D+1):\n",
    "    for r in routes:\n",
    "        day = i * r\n",
    "        if day <= D:\n",
    "            print(r, day)\n",
    "            buses[day].add(r)\n",
    "\n",
    "buses"
   ]
  },
  {
   "cell_type": "code",
   "execution_count": 19,
   "outputs": [
    {
     "data": {
      "text/plain": "6"
     },
     "execution_count": 19,
     "metadata": {},
     "output_type": "execute_result"
    }
   ],
   "source": [
    "routes = [3, 7, 2]\n",
    "i = D\n",
    "while i > 0:\n",
    "    while routes:\n",
    "        ride = routes.pop()\n",
    "        if ride not in buses[i]:\n",
    "            routes.append(ride)\n",
    "            break\n",
    "\n",
    "    if not routes:\n",
    "        break\n",
    "\n",
    "    i -= 1\n",
    "\n",
    "i"
   ],
   "metadata": {
    "collapsed": false,
    "pycharm": {
     "name": "#%%\n"
    }
   }
  },
  {
   "cell_type": "code",
   "execution_count": 22,
   "outputs": [],
   "source": [
    "def get_schedule(D, routes):\n",
    "    buses = [set() for _ in range(D+1)]\n",
    "    for i in range(1, D+1):\n",
    "        for r in routes:\n",
    "            day = i * r\n",
    "            if day <= D:\n",
    "                buses[day].add(r)\n",
    "    return buses"
   ],
   "metadata": {
    "collapsed": false,
    "pycharm": {
     "name": "#%%\n"
    }
   }
  },
  {
   "cell_type": "code",
   "execution_count": 26,
   "outputs": [],
   "source": [
    "def find_latest(D, routes, buses):\n",
    "    i = D\n",
    "    while i > 0:\n",
    "        while routes:\n",
    "            ride = routes.pop()\n",
    "            if ride not in buses[i]:\n",
    "                routes.append(ride)\n",
    "                break\n",
    "\n",
    "        if not routes:\n",
    "            break\n",
    "\n",
    "        i -= 1\n",
    "\n",
    "    return i"
   ],
   "metadata": {
    "collapsed": false,
    "pycharm": {
     "name": "#%%\n"
    }
   }
  },
  {
   "cell_type": "code",
   "execution_count": 27,
   "outputs": [
    {
     "data": {
      "text/plain": "99"
     },
     "execution_count": 27,
     "metadata": {},
     "output_type": "execute_result"
    }
   ],
   "source": [
    "buses = get_schedule(100, [11, 10, 5, 50])\n",
    "find_latest(100, [11, 10, 5, 50], buses)"
   ],
   "metadata": {
    "collapsed": false,
    "pycharm": {
     "name": "#%%\n"
    }
   }
  },
  {
   "cell_type": "code",
   "execution_count": 32,
   "outputs": [
    {
     "name": "stdout",
     "output_type": "stream",
     "text": [
      "[50, 5, 10, 11]\n",
      "100\n",
      "100\n",
      "100\n",
      "99\n"
     ]
    },
    {
     "data": {
      "text/plain": "99"
     },
     "execution_count": 32,
     "metadata": {},
     "output_type": "execute_result"
    }
   ],
   "source": [
    "def math_way(D, routes):\n",
    "    for route in routes[::-1]:\n",
    "        D = (D // route) * route\n",
    "\n",
    "    return D\n",
    "math_way(100, [11, 10, 5, 50])"
   ],
   "metadata": {
    "collapsed": false,
    "pycharm": {
     "name": "#%%\n"
    }
   }
  },
  {
   "cell_type": "code",
   "execution_count": 31,
   "outputs": [],
   "source": [],
   "metadata": {
    "collapsed": false,
    "pycharm": {
     "name": "#%%\n"
    }
   }
  },
  {
   "cell_type": "code",
   "execution_count": null,
   "outputs": [],
   "source": [],
   "metadata": {
    "collapsed": false,
    "pycharm": {
     "name": "#%%\n"
    }
   }
  }
 ],
 "metadata": {
  "kernelspec": {
   "name": "pycharm-4f6d71ca",
   "language": "python",
   "display_name": "PyCharm (kickstart)"
  },
  "language_info": {
   "codemirror_mode": {
    "name": "ipython",
    "version": 2
   },
   "file_extension": ".py",
   "mimetype": "text/x-python",
   "name": "python",
   "nbconvert_exporter": "python",
   "pygments_lexer": "ipython2",
   "version": "2.7.6"
  }
 },
 "nbformat": 4,
 "nbformat_minor": 0
}