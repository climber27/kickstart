{
 "cells": [
  {
   "cell_type": "code",
   "execution_count": 61,
   "outputs": [],
   "source": [
    "def move_one(x, y, cmd, ops, repeat):\n",
    "    dx, dy = ops[cmd]\n",
    "    x += (dx * repeat)\n",
    "    y += (dy * repeat)\n",
    "\n",
    "    return x % 10 ** 9, y % 10 ** 9"
   ],
   "metadata": {
    "collapsed": false,
    "pycharm": {
     "name": "#%%\n"
    }
   }
  },
  {
   "cell_type": "code",
   "execution_count": 62,
   "outputs": [
    {
     "data": {
      "text/plain": "(3, 999999995)"
     },
     "execution_count": 62,
     "metadata": {},
     "output_type": "execute_result"
    }
   ],
   "source": [
    "x, y = 1, 1\n",
    "repeat = 1\n",
    "stack = []\n",
    "s = '2(3(NW)2(W2(EE)W))'\n",
    "ops = {'N': (0,-1), 'S': (0, 1), 'E':(1, 0), 'W': (-1, 0)}\n",
    "for cmd in s:\n",
    "    if cmd == '(':\n",
    "        continue\n",
    "    elif cmd == ')':\n",
    "        repeat //= stack.pop()\n",
    "    elif cmd in ops:\n",
    "        x, y = move_one(x, y, cmd, ops, repeat)\n",
    "    else:\n",
    "        loop = int(cmd)\n",
    "        stack.append(loop)\n",
    "        repeat *= loop\n",
    "\n",
    "x, y"
   ],
   "metadata": {
    "collapsed": false,
    "pycharm": {
     "name": "#%%\n"
    }
   }
  },
  {
   "cell_type": "code",
   "execution_count": 63,
   "outputs": [],
   "source": [
    "def solve(s):\n",
    "    x, y = 0, 0\n",
    "    repeat = 1\n",
    "    stack = []\n",
    "    ops = {'N': (0,-1), 'S': (0, 1), 'E':(1, 0), 'W': (-1, 0)}\n",
    "    for cmd in s:\n",
    "        if cmd == '(':\n",
    "            continue\n",
    "        elif cmd == ')':\n",
    "            repeat //= stack.pop()\n",
    "        elif cmd in ops:\n",
    "            x, y = move_one(x, y, cmd, ops, repeat)\n",
    "        else:\n",
    "            loop = int(cmd)\n",
    "            stack.append(loop)\n",
    "            repeat *= loop\n",
    "\n",
    "    return x, y"
   ],
   "metadata": {
    "collapsed": false,
    "pycharm": {
     "name": "#%%\n"
    }
   }
  },
  {
   "cell_type": "code",
   "execution_count": 64,
   "outputs": [
    {
     "data": {
      "text/plain": "0.0"
     },
     "execution_count": 64,
     "metadata": {},
     "output_type": "execute_result"
    }
   ],
   "source": [],
   "metadata": {
    "collapsed": false,
    "pycharm": {
     "name": "#%%\n"
    }
   }
  }
 ],
 "metadata": {
  "kernelspec": {
   "name": "pycharm-4f6d71ca",
   "language": "python",
   "display_name": "PyCharm (kickstart)"
  },
  "language_info": {
   "codemirror_mode": {
    "name": "ipython",
    "version": 2
   },
   "file_extension": ".py",
   "mimetype": "text/x-python",
   "name": "python",
   "nbconvert_exporter": "python",
   "pygments_lexer": "ipython2",
   "version": "2.7.6"
  }
 },
 "nbformat": 4,
 "nbformat_minor": 0
}