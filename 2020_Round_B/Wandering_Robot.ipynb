{
 "cells": [
  {
   "cell_type": "code",
   "execution_count": 1,
   "metadata": {
    "collapsed": true,
    "pycharm": {
     "name": "#%%\n"
    }
   },
   "outputs": [],
   "source": [
    "from math import log2\n",
    "\n",
    "def bin_tot_trial(n, k, logs):\n",
    "    res = 0\n",
    "    for i in range(k, n+1):\n",
    "        res += pow(2, logs[n] - logs[i] - logs[n-i] - n)\n",
    "    return res\n",
    "\n",
    "def solve(problem):\n",
    "    W, H, L, U, R, D = problem\n",
    "    N = W + H + 1\n",
    "    logs = [0] * N\n",
    "    for i in range(2, N):\n",
    "        logs[i] = log2(i) + logs[i-1]\n",
    "\n",
    "    below = bin_tot_trial(L+D-2, D, logs) if H > D else 0\n",
    "    above = bin_tot_trial(R+U-2, R, logs) if W > R else 0\n",
    "\n",
    "    return above + below\n",
    "\n",
    "T = int(input())\n",
    "for t in range(T):\n",
    "    line = input()\n",
    "    problem = map(int, line.split(\" \"))\n",
    "    print(f\"Case #{t+1}: {solve(problem)}\")"
   ]
  }
 ],
 "metadata": {
  "kernelspec": {
   "name": "pycharm-4f6d71ca",
   "language": "python",
   "display_name": "PyCharm (kickstart)"
  },
  "language_info": {
   "codemirror_mode": {
    "name": "ipython",
    "version": 2
   },
   "file_extension": ".py",
   "mimetype": "text/x-python",
   "name": "python",
   "nbconvert_exporter": "python",
   "pygments_lexer": "ipython2",
   "version": "2.7.6"
  }
 },
 "nbformat": 4,
 "nbformat_minor": 0
}