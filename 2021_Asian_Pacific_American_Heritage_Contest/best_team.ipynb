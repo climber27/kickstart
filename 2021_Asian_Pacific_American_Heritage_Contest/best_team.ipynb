{
 "cells": [
  {
   "cell_type": "code",
   "execution_count": 73,
   "metadata": {
    "collapsed": true
   },
   "outputs": [],
   "source": [
    "k = 4\n",
    "devs = [8, 1, 4, 6, 1, 5, 11]"
   ]
  },
  {
   "cell_type": "code",
   "execution_count": 74,
   "outputs": [
    {
     "data": {
      "text/plain": "[1, 1, 4, 5, 6, 8, 11]"
     },
     "execution_count": 74,
     "metadata": {},
     "output_type": "execute_result"
    }
   ],
   "source": [
    "devs = sorted(devs)\n",
    "devs"
   ],
   "metadata": {
    "collapsed": false,
    "pycharm": {
     "name": "#%%\n"
    }
   }
  },
  {
   "cell_type": "code",
   "execution_count": 75,
   "outputs": [
    {
     "data": {
      "text/plain": "[1, 1, 4, 5]"
     },
     "execution_count": 75,
     "metadata": {},
     "output_type": "execute_result"
    }
   ],
   "source": [
    "smallest = float('inf')\n",
    "smallest_range = None\n",
    "for i in range(len(devs)-k+1):\n",
    "    if devs[k+i-1] - devs[i] < smallest:\n",
    "        smallest = devs[k+i-1] - devs[i]\n",
    "        smallest_range = devs[i:i+k]\n",
    "\n",
    "smallest_range"
   ],
   "metadata": {
    "collapsed": false,
    "pycharm": {
     "name": "#%%\n"
    }
   }
  },
  {
   "cell_type": "code",
   "execution_count": 71,
   "outputs": [],
   "source": [
    "def proj_diff(ppl, k):\n",
    "    x = ppl[len(ppl)//2]\n",
    "    print(f\"set: {ppl}, x: {x}\")\n",
    "    res = 0\n",
    "    for p in ppl:\n",
    "        res += abs(p-x)\n",
    "    return res"
   ],
   "metadata": {
    "collapsed": false,
    "pycharm": {
     "name": "#%%\n"
    }
   }
  },
  {
   "cell_type": "code",
   "execution_count": 72,
   "outputs": [
    {
     "name": "stdout",
     "output_type": "stream",
     "text": [
      "set: [3, 4, 5], x: 4\n"
     ]
    },
    {
     "data": {
      "text/plain": "2"
     },
     "execution_count": 72,
     "metadata": {},
     "output_type": "execute_result"
    }
   ],
   "source": [
    "proj_diff(smallest_range, 3)"
   ],
   "metadata": {
    "collapsed": false,
    "pycharm": {
     "name": "#%%\n"
    }
   }
  },
  {
   "cell_type": "code",
   "execution_count": 66,
   "outputs": [
    {
     "name": "stdout",
     "output_type": "stream",
     "text": [
      "devs: [1, 3, 4, 5, 6, 8, 9]\n",
      "set: [1, 3, 4], x: 3\n",
      "8 3\n",
      "set: [3, 4, 5], x: 4\n",
      "10 2\n",
      "set: [4, 5, 6], x: 5\n",
      "12 2\n",
      "set: [5, 6, 8], x: 6\n",
      "15 3\n",
      "set: [6, 8, 9], x: 8\n",
      "18 3\n"
     ]
    },
    {
     "data": {
      "text/plain": "2"
     },
     "execution_count": 66,
     "metadata": {},
     "output_type": "execute_result"
    }
   ],
   "source": [
    "print(f\"devs: {devs}\")\n",
    "cur_skill = 0\n",
    "for s in devs[:k]:\n",
    "    cur_skill += s\n",
    "\n",
    "l, r = 0, k-1\n",
    "effort = proj_diff(devs[l:r+1], cur_skill, k)\n",
    "res = effort\n",
    "l += 1\n",
    "r += 1\n",
    "print(cur_skill, effort)\n",
    "while r < len(devs):\n",
    "    cur_skill -= devs[l]\n",
    "    cur_skill += devs[r]\n",
    "\n",
    "    effort = proj_diff(devs[l:r+1], cur_skill, k)\n",
    "    res = min(res, effort)\n",
    "    print(cur_skill, effort)\n",
    "\n",
    "    l += 1\n",
    "    r += 1\n",
    "\n",
    "res\n"
   ],
   "metadata": {
    "collapsed": false,
    "pycharm": {
     "name": "#%%\n"
    }
   }
  },
  {
   "cell_type": "code",
   "execution_count": null,
   "outputs": [],
   "source": [
    "def effort(ppl, cur_sum, k):\n",
    "    res = 0\n",
    "    x = ppl[len(ppl)//2]\n",
    "    for p in ppl:\n",
    "        res += abs(p-x)\n",
    "    return res\n",
    "\n",
    "def findMinimumEffort(devs, k):\n",
    "    devs = sorted(devs)\n",
    "\n",
    "    cur_skill = 0\n",
    "    for s in devs[:k]:\n",
    "        cur_skill += s\n",
    "\n",
    "    l, r = 0, k-1\n",
    "    res = effort(devs[l:r+1], cur_skill, k)\n",
    "    l, r = l+1, r+1\n",
    "    while r < len(devs):\n",
    "        cur_skill -= devs[l]\n",
    "        cur_skill += devs[r]\n",
    "\n",
    "        res = min(res, effort(devs[l:r+1], cur_skill, k))\n",
    "        l, r = l+1, r+1\n",
    "\n",
    "    return res\n"
   ],
   "metadata": {
    "collapsed": false,
    "pycharm": {
     "name": "#%%\n"
    }
   }
  }
 ],
 "metadata": {
  "kernelspec": {
   "name": "pycharm-4f6d71ca",
   "language": "python",
   "display_name": "PyCharm (kickstart)"
  },
  "language_info": {
   "codemirror_mode": {
    "name": "ipython",
    "version": 2
   },
   "file_extension": ".py",
   "mimetype": "text/x-python",
   "name": "python",
   "nbconvert_exporter": "python",
   "pygments_lexer": "ipython2",
   "version": "2.7.6"
  }
 },
 "nbformat": 4,
 "nbformat_minor": 0
}