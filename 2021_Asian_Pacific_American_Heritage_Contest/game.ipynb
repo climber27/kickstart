{
 "cells": [
  {
   "cell_type": "code",
   "execution_count": 14,
   "metadata": {
    "collapsed": true
   },
   "outputs": [],
   "source": [
    "nums = [2, 1, 4, 3]"
   ]
  },
  {
   "cell_type": "code",
   "execution_count": 19,
   "outputs": [
    {
     "name": "stdout",
     "output_type": "stream",
     "text": [
      "2 0 2\n",
      "2 3 3\n",
      "6 3 4\n",
      "6 4 1\n"
     ]
    },
    {
     "data": {
      "text/plain": "(6, 4, 2)"
     },
     "execution_count": 19,
     "metadata": {},
     "output_type": "execute_result"
    }
   ],
   "source": [
    "a, b = 0, 0\n",
    "l, r = 0, len(nums)-1\n",
    "even = False\n",
    "a_turn = True\n",
    "for _ in range(len(nums)):\n",
    "    if not even:\n",
    "        score = nums[l]\n",
    "        l += 1\n",
    "    else:\n",
    "        score = nums[r]\n",
    "        r -= 1\n",
    "\n",
    "    even = not even if score % 2 == 0 else even\n",
    "    if a_turn:\n",
    "        a += score\n",
    "    else:\n",
    "        b += score\n",
    "    a_turn = not a_turn\n",
    "    print(a, b, score)\n",
    "\n",
    "a, b, abs(a-b)"
   ],
   "metadata": {
    "collapsed": false,
    "pycharm": {
     "name": "#%%\n"
    }
   }
  },
  {
   "cell_type": "code",
   "execution_count": null,
   "outputs": [],
   "source": [],
   "metadata": {
    "collapsed": false,
    "pycharm": {
     "name": "#%%\n"
    }
   }
  }
 ],
 "metadata": {
  "kernelspec": {
   "name": "pycharm-4f6d71ca",
   "language": "python",
   "display_name": "PyCharm (kickstart)"
  },
  "language_info": {
   "codemirror_mode": {
    "name": "ipython",
    "version": 2
   },
   "file_extension": ".py",
   "mimetype": "text/x-python",
   "name": "python",
   "nbconvert_exporter": "python",
   "pygments_lexer": "ipython2",
   "version": "2.7.6"
  }
 },
 "nbformat": 4,
 "nbformat_minor": 0
}