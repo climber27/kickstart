{
 "cells": [
  {
   "cell_type": "code",
   "execution_count": 1,
   "metadata": {
    "collapsed": true
   },
   "outputs": [],
   "source": [
    "class BIT:\n",
    "    def __init__(self, size):\n",
    "        self.bit = [0] * (size + 1)\n",
    "\n",
    "    def getSum(self, idx):  # Get sum in range [1..idx], 1-based indexing\n",
    "        s = 0\n",
    "        while idx > 0:\n",
    "            s += self.bit[idx]\n",
    "            idx -= idx & (-idx)\n",
    "        return s\n",
    "\n",
    "    def getSumRange(self, left, right):  # left, right inclusive, 1-based indexing\n",
    "        return self.getSum(right) - self.getSum(left - 1)\n",
    "\n",
    "    def addValue(self, idx, val):  # 1-based indexing\n",
    "        while idx < len(self.bit):\n",
    "            self.bit[idx] += val\n",
    "            idx += idx & (-idx)"
   ]
  },
  {
   "cell_type": "code",
   "execution_count": 1,
   "metadata": {
    "collapsed": false,
    "pycharm": {
     "name": "#%%\n"
    }
   },
   "outputs": [
    {
     "name": "stdout",
     "output_type": "stream",
     "text": [
      "hello world\n"
     ]
    }
   ],
   "source": [
    "\n",
    "print('hello world')"
   ]
  },
  {
   "cell_type": "code",
   "execution_count": null,
   "metadata": {
    "collapsed": false,
    "pycharm": {
     "name": "#%%\n"
    }
   },
   "outputs": [],
   "source": []
  }
 ],
 "metadata": {
  "kernelspec": {
   "display_name": "PyCharm (kickstart)",
   "language": "python",
   "name": "pycharm-4f6d71ca"
  },
  "language_info": {
   "codemirror_mode": {
    "name": "ipython",
    "version": 2
   },
   "file_extension": ".py",
   "mimetype": "text/x-python",
   "name": "python",
   "nbconvert_exporter": "python",
   "pygments_lexer": "ipython2",
   "version": "2.7.6"
  }
 },
 "nbformat": 4,
 "nbformat_minor": 0
}
