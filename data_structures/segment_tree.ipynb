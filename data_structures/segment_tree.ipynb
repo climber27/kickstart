{
 "cells": [
  {
   "cell_type": "code",
   "execution_count": 32,
   "metadata": {
    "collapsed": true
   },
   "outputs": [],
   "source": [
    "arr = [1,2, 3,4,5,6,7,8,9]"
   ]
  },
  {
   "cell_type": "code",
   "execution_count": 63,
   "outputs": [],
   "source": [
    "class SegNode:\n",
    "    def __init__(self, start, end, total = 0):\n",
    "        self.start = start\n",
    "        self.end = end\n",
    "        self.total = total\n",
    "        self.left = None\n",
    "        self.right = None\n",
    "\n",
    "class FenwickTree:\n",
    "    def __init__(self, data):\n",
    "        self.data = data\n",
    "        self.root = self.build()\n",
    "\n",
    "    def _create_util(self, l, r):\n",
    "        if l > r:\n",
    "            return None\n",
    "\n",
    "        if l == r:\n",
    "            leaf = SegNode(l, r, self.data[l])\n",
    "            return leaf\n",
    "\n",
    "        mid = (l + r) // 2\n",
    "        node = SegNode(l, r)\n",
    "        node.left = self._create_util(l, mid)\n",
    "        node.right = self._create_util(mid + 1, r)\n",
    "        node.total = node.left.total + node.right.total\n",
    "\n",
    "        return node\n",
    "\n",
    "    def build(self):\n",
    "        return self._create_util(0, len(self.data) - 1)\n",
    "\n",
    "    def _update_util(self, node, idx, value):\n",
    "        if node.start == node.end:\n",
    "            node.total = value\n",
    "            return value\n",
    "\n",
    "        mid = (node.start + node.end) // 2\n",
    "        if idx <= mid:\n",
    "            self._update_util(node.left, idx, value)\n",
    "        else:\n",
    "            self._update_util(node.right, idx, value)\n",
    "\n",
    "        node.total = node.left.total + node.right.total\n",
    "        return node.total\n",
    "\n",
    "    def update(self, idx, value):\n",
    "        self.data[idx] = value\n",
    "        return self._update_util(self.root, idx, value)\n",
    "\n",
    "    def _sum(self, node, i, j):\n",
    "        if node.start == i and node.end == j:\n",
    "            return node.total\n",
    "\n",
    "        mid = (node.start + node.end) // 2\n",
    "        if j <= mid:\n",
    "            return self._sum(node.left, i, j)\n",
    "        elif i >= mid + 1:\n",
    "            return self._sum(node.right, i, j)\n",
    "        else:\n",
    "            return self._sum(node.left, i, mid) + self._sum(node.right, mid + 1, j)\n",
    "\n",
    "    def range_sum(self, i, j):\n",
    "        return self._sum(self.root, i, j)"
   ],
   "metadata": {
    "collapsed": false,
    "pycharm": {
     "name": "#%%\n"
    }
   }
  },
  {
   "cell_type": "code",
   "execution_count": 64,
   "outputs": [],
   "source": [
    "ft = FenwickTree(data=arr)"
   ],
   "metadata": {
    "collapsed": false,
    "pycharm": {
     "name": "#%%\n"
    }
   }
  },
  {
   "cell_type": "code",
   "execution_count": 65,
   "outputs": [
    {
     "data": {
      "text/plain": "[1, 2, 3, 4, 5, 6, 7, 8, 9]"
     },
     "execution_count": 65,
     "metadata": {},
     "output_type": "execute_result"
    }
   ],
   "source": [
    "arr"
   ],
   "metadata": {
    "collapsed": false,
    "pycharm": {
     "name": "#%%\n"
    }
   }
  },
  {
   "cell_type": "code",
   "execution_count": 66,
   "outputs": [
    {
     "name": "stdout",
     "output_type": "stream",
     "text": [
      "15\n"
     ]
    }
   ],
   "source": [
    "print(ft.range_sum(6, 7))"
   ],
   "metadata": {
    "collapsed": false,
    "pycharm": {
     "name": "#%%\n"
    }
   }
  },
  {
   "cell_type": "code",
   "execution_count": 67,
   "outputs": [
    {
     "data": {
      "text/plain": "[1, 2, 3, 4, 5, 6, 7, 8, 9]"
     },
     "execution_count": 67,
     "metadata": {},
     "output_type": "execute_result"
    }
   ],
   "source": [
    "ft.data"
   ],
   "metadata": {
    "collapsed": false,
    "pycharm": {
     "name": "#%%\n"
    }
   }
  },
  {
   "cell_type": "code",
   "execution_count": 68,
   "outputs": [
    {
     "data": {
      "text/plain": "142"
     },
     "execution_count": 68,
     "metadata": {},
     "output_type": "execute_result"
    }
   ],
   "source": [
    "ft.update(2, 100)"
   ],
   "metadata": {
    "collapsed": false,
    "pycharm": {
     "name": "#%%\n"
    }
   }
  },
  {
   "cell_type": "code",
   "execution_count": 69,
   "outputs": [
    {
     "data": {
      "text/plain": "[1, 2, 100, 4, 5, 6, 7, 8, 9]"
     },
     "execution_count": 69,
     "metadata": {},
     "output_type": "execute_result"
    }
   ],
   "source": [
    "ft.data"
   ],
   "metadata": {
    "collapsed": false,
    "pycharm": {
     "name": "#%%\n"
    }
   }
  },
  {
   "cell_type": "code",
   "execution_count": 70,
   "outputs": [
    {
     "data": {
      "text/plain": "142"
     },
     "execution_count": 70,
     "metadata": {},
     "output_type": "execute_result"
    }
   ],
   "source": [
    "sum(ft.data)"
   ],
   "metadata": {
    "collapsed": false,
    "pycharm": {
     "name": "#%%\n"
    }
   }
  },
  {
   "cell_type": "code",
   "execution_count": null,
   "outputs": [],
   "source": [],
   "metadata": {
    "collapsed": false,
    "pycharm": {
     "name": "#%%\n"
    }
   }
  }
 ],
 "metadata": {
  "kernelspec": {
   "name": "pycharm-4f6d71ca",
   "language": "python",
   "display_name": "PyCharm (kickstart)"
  },
  "language_info": {
   "codemirror_mode": {
    "name": "ipython",
    "version": 2
   },
   "file_extension": ".py",
   "mimetype": "text/x-python",
   "name": "python",
   "nbconvert_exporter": "python",
   "pygments_lexer": "ipython2",
   "version": "2.7.6"
  }
 },
 "nbformat": 4,
 "nbformat_minor": 0
}