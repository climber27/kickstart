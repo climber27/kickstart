{
 "cells": [
  {
   "cell_type": "code",
   "execution_count": 1,
   "id": "3bef0b18",
   "metadata": {},
   "outputs": [],
   "source": [
    "import heapq"
   ]
  },
  {
   "cell_type": "code",
   "execution_count": 2,
   "id": "0d76f2ee",
   "metadata": {},
   "outputs": [],
   "source": [
    "arr = [\n",
    "    (\"olivia\", 100),\n",
    "    (\"zedd\", 50),\n",
    "    (\"johnlkanlkjdnga\", 50),\n",
    "    (\"john\", 50),\n",
    "    (\"ashley\", 50)\n",
    "]"
   ]
  },
  {
   "cell_type": "code",
   "execution_count": 3,
   "id": "64c35619",
   "metadata": {},
   "outputs": [],
   "source": [
    "char_codex = {\n",
    "    'a':0.01, 'b':0.02, 'c':0.03, 'd':0.04, 'e':0.05, 'f':0.06,\n",
    "    'g':0.07, 'h':0.08, 'i':0.09, 'j':0.10, 'k':0.11, 'l':0.12, \n",
    "    'm':0.13, 'n':0.14, 'o':0.15, 'p':0.16, 'q':0.17, 'r':0.18, \n",
    "    's':0.19, 't':0.20, 'u':0.21, 'v':0.22, 'w':0.23, 'x':0.24,\n",
    "    'y':0.25, 'z':0.26\n",
    "}\n",
    "\n",
    "def alphabetic_score(word, reverse=False):\n",
    "    bitwiseshift = '1'\n",
    "    scores = [0.00] * len(word)\n",
    "    for index, letter in enumerate(word.lower()):\n",
    "        if index == 0:\n",
    "            scores[index] = char_codex[letter]\n",
    "        else:\n",
    "            bitwiseshift = bitwiseshift+'00'\n",
    "            scores[index] = char_codex[letter]/int(bitwiseshift)\n",
    "    return 1/sum(scores) if reverse else sum(scores)"
   ]
  },
  {
   "cell_type": "code",
   "execution_count": null,
   "id": "2e2ea2d6",
   "metadata": {},
   "outputs": [],
   "source": [
    "top = []\n",
    "N = 3\n",
    "for wid, time in arr:\n",
    "    if len(top) < N:\n",
    "        heapq.heappush(top, (time, alphabetic_score(wid, reverse=True), wid))\n",
    "    else:\n",
    "        heapq.heappushpop(top, (time, alphabetic_score(wid), wid))\n",
    "        \n",
    "top"
   ]
  }
 ],
 "metadata": {
  "kernelspec": {
   "display_name": "Python [conda env:py] *",
   "language": "python",
   "name": "conda-env-py-py"
  },
  "language_info": {
   "codemirror_mode": {
    "name": "ipython",
    "version": 3
   },
   "file_extension": ".py",
   "mimetype": "text/x-python",
   "name": "python",
   "nbconvert_exporter": "python",
   "pygments_lexer": "ipython3",
   "version": "3.9.12"
  }
 },
 "nbformat": 4,
 "nbformat_minor": 5
}
