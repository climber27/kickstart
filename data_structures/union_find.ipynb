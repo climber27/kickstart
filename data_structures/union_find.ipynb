{
 "cells": [
  {
   "cell_type": "code",
   "execution_count": 1,
   "metadata": {
    "collapsed": true
   },
   "outputs": [],
   "source": [
    "class unionFind:\n",
    "    def __init__(self, n):\n",
    "        self.pi = [i for i in range(n)]\n",
    "        self.rank = [1 for _ in range(n)]\n",
    "\n",
    "    def areConnected(self, p, q):\n",
    "        \"\"\"\n",
    "            return true if 2 nodes are connected or false if they are\n",
    "            not by comparing their roots\n",
    "        \"\"\"\n",
    "        return self.find(p) == self.find(q)\n",
    "\n",
    "    def union(self, u, v):\n",
    "        \"\"\"\n",
    "            build union of 2 components\n",
    "            Be sure to maintain self.rank as needed to\n",
    "            make sure your algorithm is optimal.\n",
    "        \"\"\"\n",
    "        uset, vset = self.find(u), self.find(v)\n",
    "        if uset == vset:\n",
    "            return\n",
    "        \n",
    "        # ranking\n",
    "        if self.rank[uset] > self.rank[vset]:\n",
    "            self.pi[vset] = uset\n",
    "        elif self.rank[uset] < self.rank[vset]:\n",
    "            self.pi[uset] = vset\n",
    "        else:\n",
    "            self.pi[vset] = uset\n",
    "            self.rank[uset] += 1\n",
    "\n",
    "    def find(self, p):\n",
    "        \"\"\"\n",
    "            find the root of the set containing the\n",
    "            passed vertex p - Must use path compression!\n",
    "        \"\"\"\n",
    "        if p != self.pi[p]:\n",
    "            self.pi[p] = self.find(self.pi[p])\n",
    "        return self.pi[p]"
   ]
  },
  {
   "cell_type": "code",
   "execution_count": 1,
   "metadata": {
    "collapsed": false,
    "pycharm": {
     "name": "#%%\n"
    }
   },
   "outputs": [
    {
     "name": "stdout",
     "output_type": "stream",
     "text": [
      "hello world\n"
     ]
    }
   ],
   "source": [
    "\n",
    "print('hello world')"
   ]
  },
  {
   "cell_type": "code",
   "execution_count": null,
   "metadata": {
    "collapsed": false,
    "pycharm": {
     "name": "#%%\n"
    }
   },
   "outputs": [],
   "source": []
  }
 ],
 "metadata": {
  "kernelspec": {
   "display_name": "PyCharm (kickstart)",
   "language": "python",
   "name": "pycharm-4f6d71ca"
  },
  "language_info": {
   "codemirror_mode": {
    "name": "ipython",
    "version": 2
   },
   "file_extension": ".py",
   "mimetype": "text/x-python",
   "name": "python",
   "nbconvert_exporter": "python",
   "pygments_lexer": "ipython2",
   "version": "2.7.6"
  }
 },
 "nbformat": 4,
 "nbformat_minor": 0
}
