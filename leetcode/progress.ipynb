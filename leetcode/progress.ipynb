{
 "cells": [
  {
   "cell_type": "code",
   "execution_count": 2,
   "id": "7a1d2499",
   "metadata": {},
   "outputs": [],
   "source": [
    "import pandas as pd\n",
    "from collections import defaultdict"
   ]
  },
  {
   "cell_type": "code",
   "execution_count": 3,
   "id": "94473c78",
   "metadata": {},
   "outputs": [],
   "source": [
    "# load stats\n",
    "csv_file_path = './Leetcode Progress 2022 - Solved.csv'\n",
    "df = pd.read_csv(csv_file_path)"
   ]
  },
  {
   "cell_type": "code",
   "execution_count": 4,
   "id": "120ff57f",
   "metadata": {},
   "outputs": [
    {
     "data": {
      "text/html": [
       "<div>\n",
       "<style scoped>\n",
       "    .dataframe tbody tr th:only-of-type {\n",
       "        vertical-align: middle;\n",
       "    }\n",
       "\n",
       "    .dataframe tbody tr th {\n",
       "        vertical-align: top;\n",
       "    }\n",
       "\n",
       "    .dataframe thead th {\n",
       "        text-align: right;\n",
       "    }\n",
       "</style>\n",
       "<table border=\"1\" class=\"dataframe\">\n",
       "  <thead>\n",
       "    <tr style=\"text-align: right;\">\n",
       "      <th></th>\n",
       "      <th>LC #</th>\n",
       "      <th>Question Description</th>\n",
       "      <th>Difficulty</th>\n",
       "      <th>Topic</th>\n",
       "      <th>Time to Solve</th>\n",
       "      <th>Onsite</th>\n",
       "      <th>Up:Down vote ratio</th>\n",
       "      <th>Date</th>\n",
       "      <th>Link</th>\n",
       "      <th>Last Submission</th>\n",
       "      <th>...</th>\n",
       "      <th>Unnamed: 22</th>\n",
       "      <th>Unnamed: 23</th>\n",
       "      <th>Unnamed: 24</th>\n",
       "      <th>Unnamed: 25</th>\n",
       "      <th>Unnamed: 26</th>\n",
       "      <th>Unnamed: 27</th>\n",
       "      <th>Unnamed: 28</th>\n",
       "      <th>Unnamed: 29</th>\n",
       "      <th>Unnamed: 30</th>\n",
       "      <th>Unnamed: 31</th>\n",
       "    </tr>\n",
       "  </thead>\n",
       "  <tbody>\n",
       "    <tr>\n",
       "      <th>0</th>\n",
       "      <td>226</td>\n",
       "      <td>Invert Binary Tree</td>\n",
       "      <td>Easy</td>\n",
       "      <td>Tree</td>\n",
       "      <td>0:02:57</td>\n",
       "      <td>Yes</td>\n",
       "      <td>66.39</td>\n",
       "      <td>April 17, 2021</td>\n",
       "      <td>https://leetcode.com/problems/invert-binary-tr...</td>\n",
       "      <td>https://leetcode.com/submissions/detail/481859...</td>\n",
       "      <td>...</td>\n",
       "      <td>NaN</td>\n",
       "      <td>NaN</td>\n",
       "      <td>NaN</td>\n",
       "      <td>NaN</td>\n",
       "      <td>NaN</td>\n",
       "      <td>NaN</td>\n",
       "      <td>NaN</td>\n",
       "      <td>NaN</td>\n",
       "      <td>NaN</td>\n",
       "      <td>NaN</td>\n",
       "    </tr>\n",
       "    <tr>\n",
       "      <th>1</th>\n",
       "      <td>1480</td>\n",
       "      <td>Running Sum of 1d Array</td>\n",
       "      <td>Easy</td>\n",
       "      <td>Array</td>\n",
       "      <td>0:01:26</td>\n",
       "      <td>Yes</td>\n",
       "      <td>10.31</td>\n",
       "      <td>April 18, 2021</td>\n",
       "      <td>https://leetcode.com/problems/running-sum-of-1...</td>\n",
       "      <td>https://leetcode.com/submissions/detail/482233...</td>\n",
       "      <td>...</td>\n",
       "      <td>NaN</td>\n",
       "      <td>NaN</td>\n",
       "      <td>NaN</td>\n",
       "      <td>NaN</td>\n",
       "      <td>NaN</td>\n",
       "      <td>NaN</td>\n",
       "      <td>NaN</td>\n",
       "      <td>NaN</td>\n",
       "      <td>NaN</td>\n",
       "      <td>NaN</td>\n",
       "    </tr>\n",
       "    <tr>\n",
       "      <th>2</th>\n",
       "      <td>811</td>\n",
       "      <td>Subdomain Visit Count</td>\n",
       "      <td>Easy</td>\n",
       "      <td>String</td>\n",
       "      <td>0:14:23</td>\n",
       "      <td>Yes</td>\n",
       "      <td>0.82</td>\n",
       "      <td>April 18, 2021</td>\n",
       "      <td>https://leetcode.com/problems/subdomain-visit-...</td>\n",
       "      <td>https://leetcode.com/submissions/detail/482271...</td>\n",
       "      <td>...</td>\n",
       "      <td>NaN</td>\n",
       "      <td>NaN</td>\n",
       "      <td>NaN</td>\n",
       "      <td>NaN</td>\n",
       "      <td>NaN</td>\n",
       "      <td>NaN</td>\n",
       "      <td>NaN</td>\n",
       "      <td>NaN</td>\n",
       "      <td>NaN</td>\n",
       "      <td>NaN</td>\n",
       "    </tr>\n",
       "    <tr>\n",
       "      <th>3</th>\n",
       "      <td>811</td>\n",
       "      <td>Subdomain Visit Count</td>\n",
       "      <td>Easy</td>\n",
       "      <td>Hash Table</td>\n",
       "      <td>0:14:23</td>\n",
       "      <td>Yes</td>\n",
       "      <td>0.82</td>\n",
       "      <td>April 18, 2021</td>\n",
       "      <td>https://leetcode.com/problems/subdomain-visit-...</td>\n",
       "      <td>https://leetcode.com/submissions/detail/482271...</td>\n",
       "      <td>...</td>\n",
       "      <td>NaN</td>\n",
       "      <td>NaN</td>\n",
       "      <td>NaN</td>\n",
       "      <td>NaN</td>\n",
       "      <td>NaN</td>\n",
       "      <td>NaN</td>\n",
       "      <td>NaN</td>\n",
       "      <td>NaN</td>\n",
       "      <td>NaN</td>\n",
       "      <td>NaN</td>\n",
       "    </tr>\n",
       "    <tr>\n",
       "      <th>4</th>\n",
       "      <td>1041</td>\n",
       "      <td>Robot Bounded In Circle</td>\n",
       "      <td>Medium</td>\n",
       "      <td>Math</td>\n",
       "      <td>0:05:39</td>\n",
       "      <td>No</td>\n",
       "      <td>3.37</td>\n",
       "      <td>May 3, 2021</td>\n",
       "      <td>https://leetcode.com/problems/robot-bounded-in...</td>\n",
       "      <td>https://leetcode.com/submissions/detail/488383...</td>\n",
       "      <td>...</td>\n",
       "      <td>NaN</td>\n",
       "      <td>NaN</td>\n",
       "      <td>NaN</td>\n",
       "      <td>NaN</td>\n",
       "      <td>NaN</td>\n",
       "      <td>NaN</td>\n",
       "      <td>NaN</td>\n",
       "      <td>NaN</td>\n",
       "      <td>NaN</td>\n",
       "      <td>NaN</td>\n",
       "    </tr>\n",
       "  </tbody>\n",
       "</table>\n",
       "<p>5 rows × 32 columns</p>\n",
       "</div>"
      ],
      "text/plain": [
       "   LC #     Question Description Difficulty       Topic Time to Solve Onsite  \\\n",
       "0   226       Invert Binary Tree       Easy        Tree       0:02:57    Yes   \n",
       "1  1480  Running Sum of 1d Array       Easy       Array       0:01:26    Yes   \n",
       "2   811    Subdomain Visit Count       Easy      String       0:14:23    Yes   \n",
       "3   811    Subdomain Visit Count       Easy  Hash Table       0:14:23    Yes   \n",
       "4  1041  Robot Bounded In Circle     Medium        Math       0:05:39     No   \n",
       "\n",
       "  Up:Down vote ratio            Date  \\\n",
       "0              66.39  April 17, 2021   \n",
       "1              10.31  April 18, 2021   \n",
       "2               0.82  April 18, 2021   \n",
       "3               0.82  April 18, 2021   \n",
       "4               3.37     May 3, 2021   \n",
       "\n",
       "                                                Link  \\\n",
       "0  https://leetcode.com/problems/invert-binary-tr...   \n",
       "1  https://leetcode.com/problems/running-sum-of-1...   \n",
       "2  https://leetcode.com/problems/subdomain-visit-...   \n",
       "3  https://leetcode.com/problems/subdomain-visit-...   \n",
       "4  https://leetcode.com/problems/robot-bounded-in...   \n",
       "\n",
       "                                     Last Submission  ... Unnamed: 22  \\\n",
       "0  https://leetcode.com/submissions/detail/481859...  ...         NaN   \n",
       "1  https://leetcode.com/submissions/detail/482233...  ...         NaN   \n",
       "2  https://leetcode.com/submissions/detail/482271...  ...         NaN   \n",
       "3  https://leetcode.com/submissions/detail/482271...  ...         NaN   \n",
       "4  https://leetcode.com/submissions/detail/488383...  ...         NaN   \n",
       "\n",
       "   Unnamed: 23  Unnamed: 24  Unnamed: 25  Unnamed: 26  Unnamed: 27  \\\n",
       "0          NaN          NaN          NaN          NaN          NaN   \n",
       "1          NaN          NaN          NaN          NaN          NaN   \n",
       "2          NaN          NaN          NaN          NaN          NaN   \n",
       "3          NaN          NaN          NaN          NaN          NaN   \n",
       "4          NaN          NaN          NaN          NaN          NaN   \n",
       "\n",
       "   Unnamed: 28  Unnamed: 29  Unnamed: 30  Unnamed: 31  \n",
       "0          NaN          NaN          NaN          NaN  \n",
       "1          NaN          NaN          NaN          NaN  \n",
       "2          NaN          NaN          NaN          NaN  \n",
       "3          NaN          NaN          NaN          NaN  \n",
       "4          NaN          NaN          NaN          NaN  \n",
       "\n",
       "[5 rows x 32 columns]"
      ]
     },
     "execution_count": 4,
     "metadata": {},
     "output_type": "execute_result"
    }
   ],
   "source": [
    "# check file was loaded\n",
    "df.head()"
   ]
  },
  {
   "cell_type": "code",
   "execution_count": 5,
   "id": "a06cfb90",
   "metadata": {},
   "outputs": [],
   "source": [
    "topics = df['Topic'].unique()"
   ]
  },
  {
   "cell_type": "code",
   "execution_count": 6,
   "id": "597712d2",
   "metadata": {},
   "outputs": [
    {
     "data": {
      "text/plain": [
       "array(['Tree', 'Array', 'String', 'Hash Table', 'Math', 'Recursion',\n",
       "       'Two Pointers', 'Design', 'Depth-first Search',\n",
       "       'Breadth-first Search', 'Greedy', 'Sort', 'Union Find', 'Graph',\n",
       "       'Topological Sort', 'Dynamic Programming', 'Stack'], dtype=object)"
      ]
     },
     "execution_count": 6,
     "metadata": {},
     "output_type": "execute_result"
    }
   ],
   "source": [
    "topics"
   ]
  },
  {
   "cell_type": "code",
   "execution_count": 7,
   "id": "e405bd6c",
   "metadata": {},
   "outputs": [],
   "source": [
    "# basic stats\n",
    "stats = defaultdict()\n",
    "dist = defaultdict()\n",
    "\n",
    "stats['total solved'] = df['LC #'].count()\n",
    "stats['# of easys'] = df[df['Difficulty'] == 'Easy']['Difficulty'].count()\n",
    "stats['# of mediums'] = df[df['Difficulty'] == 'Medium']['Difficulty'].count()\n",
    "stats['# of hards'] = df[df['Difficulty'] == 'Hard']['Difficulty'].count()\n",
    "\n",
    "dist['% easy'] = stats['# of easys'] / stats['total solved'] * 100\n",
    "dist['% medium'] = stats['# of mediums'] / stats['total solved'] * 100\n",
    "dist['% hard'] = stats['# of hards'] / stats['total solved'] * 100"
   ]
  },
  {
   "cell_type": "code",
   "execution_count": 8,
   "id": "6f907d16",
   "metadata": {},
   "outputs": [],
   "source": [
    "# topic stats\n",
    "time = defaultdict()\n",
    "for topic in topics:\n",
    "    stats[topic] = defaultdict()\n",
    "    stats[topic]['count'] = df[df['Topic'] == topic]['Topic'].count()\n",
    "    stats[topic]['easy count'] = df[(df['Topic'] == topic) & (df['Difficulty'] == 'Easy')]['Topic'].count()\n",
    "    stats[topic]['medium count'] = df[(df['Topic'] == topic) & (df['Difficulty'] == 'Medium')]['Topic'].count()\n",
    "    stats[topic]['hard count'] = df[(df['Topic'] == topic) & (df['Difficulty'] == 'Hard')]['Topic'].count()\n",
    "    \n",
    "    total = stats[topic]['easy count'] + stats[topic]['medium count'] + stats[topic]['hard count']\n",
    "    \n",
    "    dist[topic] = defaultdict()\n",
    "    dist[topic]['% easy'] = stats[topic]['easy count'] / total * 100\n",
    "    dist[topic]['% medium'] = stats[topic]['medium count'] / total * 100\n",
    "    dist[topic]['% hard'] = stats[topic]['hard count'] / total * 100\n",
    "    dist[topic]['% overall'] = stats[topic]['count'] / stats['total solved'] * 100\n",
    "    \n",
    "    time[topic] = defaultdict()\n",
    "    time[topic]['easy avrg time'] = pd.to_timedelta(df[(df['Topic'] == topic) & (df['Difficulty'] == 'Easy')]['Time to Solve']).mean()\n",
    "    time[topic]['medium avrg time'] = pd.to_timedelta(df[(df['Topic'] == topic) & (df['Difficulty'] == 'Medium')]['Time to Solve']).mean()\n",
    "    time[topic]['hard avrg time'] = pd.to_timedelta(df[(df['Topic'] == topic) & (df['Difficulty'] == 'Hard')]['Time to Solve']).mean()"
   ]
  },
  {
   "cell_type": "code",
   "execution_count": 9,
   "id": "3319e97e",
   "metadata": {},
   "outputs": [
    {
     "data": {
      "text/plain": [
       "defaultdict(None,\n",
       "            {'count': 1, 'easy count': 0, 'medium count': 1, 'hard count': 0})"
      ]
     },
     "execution_count": 9,
     "metadata": {},
     "output_type": "execute_result"
    }
   ],
   "source": [
    "stats['Dynamic Programming']"
   ]
  },
  {
   "cell_type": "code",
   "execution_count": 10,
   "id": "0162c0b4",
   "metadata": {},
   "outputs": [
    {
     "data": {
      "text/plain": [
       "defaultdict(None,\n",
       "            {'easy avrg time': NaT,\n",
       "             'medium avrg time': NaT,\n",
       "             'hard avrg time': NaT})"
      ]
     },
     "execution_count": 10,
     "metadata": {},
     "output_type": "execute_result"
    }
   ],
   "source": [
    "time['Dynamic Programming']"
   ]
  },
  {
   "cell_type": "code",
   "execution_count": 11,
   "id": "b23d54a5",
   "metadata": {},
   "outputs": [
    {
     "data": {
      "text/plain": [
       "defaultdict(None,\n",
       "            {'% easy': 0.0,\n",
       "             '% medium': 100.0,\n",
       "             '% hard': 0.0,\n",
       "             '% overall': 2.941176470588235})"
      ]
     },
     "execution_count": 11,
     "metadata": {},
     "output_type": "execute_result"
    }
   ],
   "source": [
    "dist['Dynamic Programming']"
   ]
  },
  {
   "cell_type": "code",
   "execution_count": null,
   "id": "3b16e8ba",
   "metadata": {},
   "outputs": [],
   "source": []
  }
 ],
 "metadata": {
  "kernelspec": {
   "display_name": "Python [conda env:kickstart] *",
   "language": "python",
   "name": "conda-env-kickstart-py"
  },
  "language_info": {
   "codemirror_mode": {
    "name": "ipython",
    "version": 3
   },
   "file_extension": ".py",
   "mimetype": "text/x-python",
   "name": "python",
   "nbconvert_exporter": "python",
   "pygments_lexer": "ipython3",
   "version": "3.10.5"
  }
 },
 "nbformat": 4,
 "nbformat_minor": 5
}
